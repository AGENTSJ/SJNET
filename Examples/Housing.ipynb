{
 "cells": [
  {
   "cell_type": "code",
   "execution_count": null,
   "metadata": {},
   "outputs": [],
   "source": [
    "import pandas as pd\n",
    "import json"
   ]
  },
  {
   "cell_type": "code",
   "execution_count": null,
   "metadata": {},
   "outputs": [],
   "source": [
    "data = pd.read_csv(\"housing.csv\",delim_whitespace=True,header=None)\n",
    "dataset = data.values\n",
    "X=[]\n",
    "Y=[]\n",
    "for idx1,row in enumerate(dataset):\n",
    "    x=[]\n",
    "    for id2 in range(len(row)):\n",
    "        if id2==13:\n",
    "            Y.append([row[id2]])\n",
    "        else:\n",
    "            x.append(row[id2])\n",
    "    X.append(x)\n"
   ]
  },
  {
   "cell_type": "code",
   "execution_count": null,
   "metadata": {},
   "outputs": [],
   "source": [
    "# download SJNET.py then continue\n",
    "from SJNET import Network ,Layer"
   ]
  },
  {
   "cell_type": "code",
   "execution_count": null,
   "metadata": {},
   "outputs": [],
   "source": [
    "\n",
    "# provide the dataset X and Y \n",
    "network = Network(X=X,Y=Y,learningRate=0.0002,epoch=1000,errorThresh=3)\n"
   ]
  },
  {
   "cell_type": "code",
   "execution_count": null,
   "metadata": {},
   "outputs": [],
   "source": [
    "\n",
    "#Note: position must be (1 for input layer and -1 for output layer)\n",
    "inputLayer = Layer(neuronCount=13,position=1)\n",
    "hidden = Layer(neuronCount=20,position=2,activation=\"relu\")\n",
    "hidden2 = Layer(neuronCount=10,position=3,activation=\"relu\")\n",
    "output = Layer(neuronCount=1,position=-1,activation=\"relu\")\n"
   ]
  },
  {
   "cell_type": "code",
   "execution_count": null,
   "metadata": {},
   "outputs": [],
   "source": [
    "\n",
    "#add them in order (inputLayer->first , outputLayer->last)\n",
    "network.add(layer=inputLayer)\n",
    "network.add(layer=hidden)\n",
    "network.add(layer=hidden2)\n",
    "network.add(layer=output)\n"
   ]
  },
  {
   "cell_type": "code",
   "execution_count": null,
   "metadata": {},
   "outputs": [],
   "source": [
    "network.compile()\n",
    "network.Train()\n"
   ]
  },
  {
   "cell_type": "code",
   "execution_count": null,
   "metadata": {},
   "outputs": [],
   "source": [
    "network.save(name=\"housingModel\")\n"
   ]
  },
  {
   "cell_type": "code",
   "execution_count": null,
   "metadata": {},
   "outputs": [],
   "source": [
    "network = Network()\n",
    "model={}\n",
    "with open(\"housingModel.json\",'r') as file:\n",
    "    Model = json.load(file)\n",
    "\n",
    "#Loads the  network topology weights and biases \n",
    "network.loadNetwork(network=Model)"
   ]
  },
  {
   "cell_type": "code",
   "execution_count": null,
   "metadata": {},
   "outputs": [],
   "source": [
    "network.predict(inputvals=[0.03237 ,  0.00  , 2.180 , 0 , 0.4580 , 6.9980  ,45.80 , 6.0622 ,  3 , 222.0  ,18.70 ,394.63  , 2.94])\n",
    "network.predict(inputvals=[0.84054   ,0.00   ,8.140  ,0  ,0.5380  ,5.5990  ,85.70  ,4.4546   ,4  ,307.0  ,21.00 ,303.42  ,16.51])"
   ]
  }
 ],
 "metadata": {
  "kernelspec": {
   "display_name": "Python 3",
   "language": "python",
   "name": "python3"
  },
  "language_info": {
   "codemirror_mode": {
    "name": "ipython",
    "version": 3
   },
   "file_extension": ".py",
   "mimetype": "text/x-python",
   "name": "python",
   "nbconvert_exporter": "python",
   "pygments_lexer": "ipython3",
   "version": "3.12.0"
  }
 },
 "nbformat": 4,
 "nbformat_minor": 2
}
