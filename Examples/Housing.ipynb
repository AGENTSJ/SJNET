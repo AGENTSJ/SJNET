{
 "cells": [
  {
   "cell_type": "code",
   "execution_count": 31,
   "metadata": {},
   "outputs": [],
   "source": [
    "import pandas as pd\n",
    "import json"
   ]
  },
  {
   "cell_type": "code",
   "execution_count": 32,
   "metadata": {},
   "outputs": [],
   "source": [
    "data = pd.read_csv(\"housing.csv\",delim_whitespace=True,header=None)\n",
    "dataset = data.values\n",
    "X=[]\n",
    "Y=[]\n",
    "for idx1,row in enumerate(dataset):\n",
    "    x=[]\n",
    "    for id2 in range(len(row)):\n",
    "        if id2==13:\n",
    "            Y.append([row[id2]])\n",
    "        else:\n",
    "            x.append(row[id2])\n",
    "    X.append(x)\n"
   ]
  },
  {
   "cell_type": "code",
   "execution_count": 33,
   "metadata": {},
   "outputs": [],
   "source": [
    "# download SJNET.py then continue\n",
    "from SJNET import Network ,Layer"
   ]
  },
  {
   "cell_type": "code",
   "execution_count": 34,
   "metadata": {},
   "outputs": [],
   "source": [
    "\n",
    "# provide the dataset X and Y \n",
    "network = Network(X=X,Y=Y,learningRate=0.0002,epoch=40,errorThresh=3)\n"
   ]
  },
  {
   "cell_type": "code",
   "execution_count": 35,
   "metadata": {},
   "outputs": [],
   "source": [
    "\n",
    "#Note: position must be (1 for input layer and -1 for output layer)\n",
    "inputLayer = Layer(neuronCount=13,position=1)\n",
    "hidden = Layer(neuronCount=10,position=2,activation=\"relu\")\n",
    "hidden2 = Layer(neuronCount=4,position=3,activation=\"relu\")\n",
    "output = Layer(neuronCount=1,position=-1,activation=\"relu\")\n"
   ]
  },
  {
   "cell_type": "code",
   "execution_count": 36,
   "metadata": {},
   "outputs": [],
   "source": [
    "\n",
    "#add them in order (inputLayer->first , outputLayer->last)\n",
    "network.add(layer=inputLayer)\n",
    "network.add(layer=hidden)\n",
    "network.add(layer=hidden2)\n",
    "network.add(layer=output)\n"
   ]
  },
  {
   "cell_type": "code",
   "execution_count": null,
   "metadata": {},
   "outputs": [],
   "source": [
    "network.compile()\n",
    "network.Train()\n"
   ]
  },
  {
   "cell_type": "code",
   "execution_count": 38,
   "metadata": {},
   "outputs": [
    {
     "name": "stdout",
     "output_type": "stream",
     "text": [
      "saving.....\n",
      "saved.....\n"
     ]
    }
   ],
   "source": [
    "network.save(name=\"housingModel\")\n"
   ]
  },
  {
   "cell_type": "code",
   "execution_count": 39,
   "metadata": {},
   "outputs": [],
   "source": [
    "network = Network()\n",
    "model={}\n",
    "with open(\"./savedmodels/housingModel.json\",'r') as file:\n",
    "    Model = json.load(file)\n",
    "\n",
    "#Loads the  network topology weights and biases \n",
    "network.loadNetwork(network=Model)"
   ]
  },
  {
   "cell_type": "code",
   "execution_count": 40,
   "metadata": {},
   "outputs": [
    {
     "data": {
      "text/plain": [
       "[21.280374590850485]"
      ]
     },
     "execution_count": 40,
     "metadata": {},
     "output_type": "execute_result"
    }
   ],
   "source": [
    "network.predict(inputvals=[0.02731, 0.0, 7.07, 0.0, 0.469, 6.421, 78.9, 4.9671, 2.0, 242.0, 17.8, 396.9, 9.14])"
   ]
  }
 ],
 "metadata": {
  "kernelspec": {
   "display_name": "Python 3",
   "language": "python",
   "name": "python3"
  },
  "language_info": {
   "codemirror_mode": {
    "name": "ipython",
    "version": 3
   },
   "file_extension": ".py",
   "mimetype": "text/x-python",
   "name": "python",
   "nbconvert_exporter": "python",
   "pygments_lexer": "ipython3",
   "version": "3.11.5"
  }
 },
 "nbformat": 4,
 "nbformat_minor": 2
}
